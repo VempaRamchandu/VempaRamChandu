{
  "nbformat": 4,
  "nbformat_minor": 0,
  "metadata": {
    "colab": {
      "provenance": [],
      "authorship_tag": "ABX9TyMvF9grVtZwCxXgpSPGgGqs",
      "include_colab_link": true
    },
    "kernelspec": {
      "name": "python3",
      "display_name": "Python 3"
    },
    "language_info": {
      "name": "python"
    }
  },
  "cells": [
    {
      "cell_type": "markdown",
      "metadata": {
        "id": "view-in-github",
        "colab_type": "text"
      },
      "source": [
        "<a href=\"https://colab.research.google.com/github/VempaRamchandu/VempaRamChandu/blob/main/Untitled16.ipynb\" target=\"_parent\"><img src=\"https://colab.research.google.com/assets/colab-badge.svg\" alt=\"Open In Colab\"/></a>"
      ]
    },
    {
      "cell_type": "code",
      "execution_count": 3,
      "metadata": {
        "colab": {
          "base_uri": "https://localhost:8080/"
        },
        "id": "fQaSCbMdBabA",
        "outputId": "05c13745-c77c-4cf1-bd1e-fe99499411ce"
      },
      "outputs": [
        {
          "output_type": "stream",
          "name": "stdout",
          "text": [
            "Accuracy: 0.0\n",
            "Predicted Diagnosis: ['Strepsils']\n"
          ]
        }
      ],
      "source": [
        "from sklearn.tree import DecisionTreeClassifier\n",
        "from sklearn.model_selection import train_test_split\n",
        "from sklearn.metrics import accuracy_score\n",
        "\n",
        "# Sample medical data (replace with your dataset)\n",
        "# Features: Symptoms (e.g., fever, cough, sore throat)\n",
        "# Target: Diagnosis (e.g., common cold, flu, strep throat)\n",
        "X = [\n",
        "    [1, 1, 0],  # [fever, cough, no sore throat] - Neoprofin\n",
        "    [1, 0, 1],  # [fever, no cough, sore throat] - VicksAction\n",
        "    [0, 1, 1],  # [no fever, cough, sore throat] - Strepsils\n",
        "    # Add more samples as needed\n",
        "]\n",
        "\n",
        "y = ['Neoprofin', 'VicksAction', 'Strepsils']  # Corresponding diagnoses\n",
        "\n",
        "# Split data into training and testing sets\n",
        "X_train, X_test, y_train, y_test = train_test_split(X, y, test_size=0.2, random_state=42)\n",
        "\n",
        "# Train a decision tree classifier model\n",
        "model = DecisionTreeClassifier()\n",
        "model.fit(X_train, y_train)\n",
        "\n",
        "# Make predictions on the test set\n",
        "y_pred = model.predict(X_test)\n",
        "\n",
        "# Calculate accuracy\n",
        "accuracy = accuracy_score(y_test, y_pred)\n",
        "print(\"Accuracy:\", accuracy)\n",
        "\n",
        "# Example usage\n",
        "# Input symptoms: [fever, cough, no sore throat]\n",
        "input_symptoms = [[0, 1, 1]]\n",
        "predicted_diagnosis = model.predict(input_symptoms)\n",
        "print(\"Predicted Diagnosis:\", predicted_diagnosis)\n"
      ]
    }
  ]
}